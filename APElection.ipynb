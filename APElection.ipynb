{
  "nbformat": 4,
  "nbformat_minor": 0,
  "metadata": {
    "colab": {
      "provenance": []
    },
    "kernelspec": {
      "name": "python3",
      "display_name": "Python 3"
    },
    "language_info": {
      "name": "python"
    }
  },
  "cells": [
    {
      "cell_type": "code",
      "execution_count": 1,
      "metadata": {
        "colab": {
          "base_uri": "https://localhost:8080/"
        },
        "id": "qRfA9mNOzUv9",
        "outputId": "767705d0-0384-4588-d976-e41b1df4d6b0"
      },
      "outputs": [
        {
          "output_type": "stream",
          "name": "stdout",
          "text": [
            "Mounted at /content/drive\n"
          ]
        }
      ],
      "source": [
        "from google.colab import drive\n",
        "drive.mount('/content/drive')"
      ]
    },
    {
      "cell_type": "code",
      "source": [
        "import pandas as pd\n",
        "import matplotlib.pyplot as plt\n",
        "import seaborn as sns\n",
        "\n",
        "# Load the data\n",
        "# file_path = '/mnt/data/AP.xlsx'\n",
        "data = pd.read_excel(\"/content/drive/My Drive/kalvium/AP.xlsx\")\n",
        "\n",
        "# Display the first few rows of the dataset\n",
        "data.head()"
      ],
      "metadata": {
        "colab": {
          "base_uri": "https://localhost:8080/",
          "height": 310
        },
        "id": "_n-qFMwqzu63",
        "outputId": "61450a85-0369-4c59-943c-02e09781b690"
      },
      "execution_count": 23,
      "outputs": [
        {
          "output_type": "execute_result",
          "data": {
            "text/plain": [
              "  Constituency  Const. No.           Leading Candidate  \\\n",
              "0      Achanta          56       SATYANARAYANA PITHANI   \n",
              "1      Addanki         105        GOTTIPATI RAVI KUMAR   \n",
              "2        Adoni         146  DR. PARTHA SARATHI VALMIKI   \n",
              "3    Allagadda         134          AKHILA PRIYA BHUMA   \n",
              "4         Alur         147               B. VIRUPAKSHI   \n",
              "\n",
              "                           Leading Party               Trailing Candidate  \\\n",
              "0                           Telugu Desam  CHERUKUVADA SRI RANGANADHA RAJU   \n",
              "1                           Telugu Desam         CHINNA HANIMIREDDY PANEM   \n",
              "2                 Bharatiya Janata Party              Y. SAI PRASAD REDDY   \n",
              "3                           Telugu Desam   BRIJENDRA REDDY GANGULA (NANI)   \n",
              "4  Yuvajana Sramika Rythu Congress Party              B. VEERABHADRA GOWD   \n",
              "\n",
              "                          Trailing Party  Margin  Round           Status  \n",
              "0  Yuvajana Sramika Rythu Congress Party   26554  14/14  Result Declared  \n",
              "1  Yuvajana Sramika Rythu Congress Party   24890  22/22  Result Declared  \n",
              "2  Yuvajana Sramika Rythu Congress Party   18164  19/19  Result Declared  \n",
              "3  Yuvajana Sramika Rythu Congress Party   12037  22/22  Result Declared  \n",
              "4                           Telugu Desam    2831  21/21  Result Declared  "
            ],
            "text/html": [
              "\n",
              "  <div id=\"df-5fd41f66-8f54-448c-92ba-e7356b4bc737\" class=\"colab-df-container\">\n",
              "    <div>\n",
              "<style scoped>\n",
              "    .dataframe tbody tr th:only-of-type {\n",
              "        vertical-align: middle;\n",
              "    }\n",
              "\n",
              "    .dataframe tbody tr th {\n",
              "        vertical-align: top;\n",
              "    }\n",
              "\n",
              "    .dataframe thead th {\n",
              "        text-align: right;\n",
              "    }\n",
              "</style>\n",
              "<table border=\"1\" class=\"dataframe\">\n",
              "  <thead>\n",
              "    <tr style=\"text-align: right;\">\n",
              "      <th></th>\n",
              "      <th>Constituency</th>\n",
              "      <th>Const. No.</th>\n",
              "      <th>Leading Candidate</th>\n",
              "      <th>Leading Party</th>\n",
              "      <th>Trailing Candidate</th>\n",
              "      <th>Trailing Party</th>\n",
              "      <th>Margin</th>\n",
              "      <th>Round</th>\n",
              "      <th>Status</th>\n",
              "    </tr>\n",
              "  </thead>\n",
              "  <tbody>\n",
              "    <tr>\n",
              "      <th>0</th>\n",
              "      <td>Achanta</td>\n",
              "      <td>56</td>\n",
              "      <td>SATYANARAYANA PITHANI</td>\n",
              "      <td>Telugu Desam</td>\n",
              "      <td>CHERUKUVADA SRI RANGANADHA RAJU</td>\n",
              "      <td>Yuvajana Sramika Rythu Congress Party</td>\n",
              "      <td>26554</td>\n",
              "      <td>14/14</td>\n",
              "      <td>Result Declared</td>\n",
              "    </tr>\n",
              "    <tr>\n",
              "      <th>1</th>\n",
              "      <td>Addanki</td>\n",
              "      <td>105</td>\n",
              "      <td>GOTTIPATI RAVI KUMAR</td>\n",
              "      <td>Telugu Desam</td>\n",
              "      <td>CHINNA HANIMIREDDY PANEM</td>\n",
              "      <td>Yuvajana Sramika Rythu Congress Party</td>\n",
              "      <td>24890</td>\n",
              "      <td>22/22</td>\n",
              "      <td>Result Declared</td>\n",
              "    </tr>\n",
              "    <tr>\n",
              "      <th>2</th>\n",
              "      <td>Adoni</td>\n",
              "      <td>146</td>\n",
              "      <td>DR. PARTHA SARATHI VALMIKI</td>\n",
              "      <td>Bharatiya Janata Party</td>\n",
              "      <td>Y. SAI PRASAD REDDY</td>\n",
              "      <td>Yuvajana Sramika Rythu Congress Party</td>\n",
              "      <td>18164</td>\n",
              "      <td>19/19</td>\n",
              "      <td>Result Declared</td>\n",
              "    </tr>\n",
              "    <tr>\n",
              "      <th>3</th>\n",
              "      <td>Allagadda</td>\n",
              "      <td>134</td>\n",
              "      <td>AKHILA PRIYA BHUMA</td>\n",
              "      <td>Telugu Desam</td>\n",
              "      <td>BRIJENDRA REDDY GANGULA (NANI)</td>\n",
              "      <td>Yuvajana Sramika Rythu Congress Party</td>\n",
              "      <td>12037</td>\n",
              "      <td>22/22</td>\n",
              "      <td>Result Declared</td>\n",
              "    </tr>\n",
              "    <tr>\n",
              "      <th>4</th>\n",
              "      <td>Alur</td>\n",
              "      <td>147</td>\n",
              "      <td>B. VIRUPAKSHI</td>\n",
              "      <td>Yuvajana Sramika Rythu Congress Party</td>\n",
              "      <td>B. VEERABHADRA GOWD</td>\n",
              "      <td>Telugu Desam</td>\n",
              "      <td>2831</td>\n",
              "      <td>21/21</td>\n",
              "      <td>Result Declared</td>\n",
              "    </tr>\n",
              "  </tbody>\n",
              "</table>\n",
              "</div>\n",
              "    <div class=\"colab-df-buttons\">\n",
              "\n",
              "  <div class=\"colab-df-container\">\n",
              "    <button class=\"colab-df-convert\" onclick=\"convertToInteractive('df-5fd41f66-8f54-448c-92ba-e7356b4bc737')\"\n",
              "            title=\"Convert this dataframe to an interactive table.\"\n",
              "            style=\"display:none;\">\n",
              "\n",
              "  <svg xmlns=\"http://www.w3.org/2000/svg\" height=\"24px\" viewBox=\"0 -960 960 960\">\n",
              "    <path d=\"M120-120v-720h720v720H120Zm60-500h600v-160H180v160Zm220 220h160v-160H400v160Zm0 220h160v-160H400v160ZM180-400h160v-160H180v160Zm440 0h160v-160H620v160ZM180-180h160v-160H180v160Zm440 0h160v-160H620v160Z\"/>\n",
              "  </svg>\n",
              "    </button>\n",
              "\n",
              "  <style>\n",
              "    .colab-df-container {\n",
              "      display:flex;\n",
              "      gap: 12px;\n",
              "    }\n",
              "\n",
              "    .colab-df-convert {\n",
              "      background-color: #E8F0FE;\n",
              "      border: none;\n",
              "      border-radius: 50%;\n",
              "      cursor: pointer;\n",
              "      display: none;\n",
              "      fill: #1967D2;\n",
              "      height: 32px;\n",
              "      padding: 0 0 0 0;\n",
              "      width: 32px;\n",
              "    }\n",
              "\n",
              "    .colab-df-convert:hover {\n",
              "      background-color: #E2EBFA;\n",
              "      box-shadow: 0px 1px 2px rgba(60, 64, 67, 0.3), 0px 1px 3px 1px rgba(60, 64, 67, 0.15);\n",
              "      fill: #174EA6;\n",
              "    }\n",
              "\n",
              "    .colab-df-buttons div {\n",
              "      margin-bottom: 4px;\n",
              "    }\n",
              "\n",
              "    [theme=dark] .colab-df-convert {\n",
              "      background-color: #3B4455;\n",
              "      fill: #D2E3FC;\n",
              "    }\n",
              "\n",
              "    [theme=dark] .colab-df-convert:hover {\n",
              "      background-color: #434B5C;\n",
              "      box-shadow: 0px 1px 3px 1px rgba(0, 0, 0, 0.15);\n",
              "      filter: drop-shadow(0px 1px 2px rgba(0, 0, 0, 0.3));\n",
              "      fill: #FFFFFF;\n",
              "    }\n",
              "  </style>\n",
              "\n",
              "    <script>\n",
              "      const buttonEl =\n",
              "        document.querySelector('#df-5fd41f66-8f54-448c-92ba-e7356b4bc737 button.colab-df-convert');\n",
              "      buttonEl.style.display =\n",
              "        google.colab.kernel.accessAllowed ? 'block' : 'none';\n",
              "\n",
              "      async function convertToInteractive(key) {\n",
              "        const element = document.querySelector('#df-5fd41f66-8f54-448c-92ba-e7356b4bc737');\n",
              "        const dataTable =\n",
              "          await google.colab.kernel.invokeFunction('convertToInteractive',\n",
              "                                                    [key], {});\n",
              "        if (!dataTable) return;\n",
              "\n",
              "        const docLinkHtml = 'Like what you see? Visit the ' +\n",
              "          '<a target=\"_blank\" href=https://colab.research.google.com/notebooks/data_table.ipynb>data table notebook</a>'\n",
              "          + ' to learn more about interactive tables.';\n",
              "        element.innerHTML = '';\n",
              "        dataTable['output_type'] = 'display_data';\n",
              "        await google.colab.output.renderOutput(dataTable, element);\n",
              "        const docLink = document.createElement('div');\n",
              "        docLink.innerHTML = docLinkHtml;\n",
              "        element.appendChild(docLink);\n",
              "      }\n",
              "    </script>\n",
              "  </div>\n",
              "\n",
              "\n",
              "<div id=\"df-66e7ce87-28e8-4c63-bfcf-3f2783e873ce\">\n",
              "  <button class=\"colab-df-quickchart\" onclick=\"quickchart('df-66e7ce87-28e8-4c63-bfcf-3f2783e873ce')\"\n",
              "            title=\"Suggest charts\"\n",
              "            style=\"display:none;\">\n",
              "\n",
              "<svg xmlns=\"http://www.w3.org/2000/svg\" height=\"24px\"viewBox=\"0 0 24 24\"\n",
              "     width=\"24px\">\n",
              "    <g>\n",
              "        <path d=\"M19 3H5c-1.1 0-2 .9-2 2v14c0 1.1.9 2 2 2h14c1.1 0 2-.9 2-2V5c0-1.1-.9-2-2-2zM9 17H7v-7h2v7zm4 0h-2V7h2v10zm4 0h-2v-4h2v4z\"/>\n",
              "    </g>\n",
              "</svg>\n",
              "  </button>\n",
              "\n",
              "<style>\n",
              "  .colab-df-quickchart {\n",
              "      --bg-color: #E8F0FE;\n",
              "      --fill-color: #1967D2;\n",
              "      --hover-bg-color: #E2EBFA;\n",
              "      --hover-fill-color: #174EA6;\n",
              "      --disabled-fill-color: #AAA;\n",
              "      --disabled-bg-color: #DDD;\n",
              "  }\n",
              "\n",
              "  [theme=dark] .colab-df-quickchart {\n",
              "      --bg-color: #3B4455;\n",
              "      --fill-color: #D2E3FC;\n",
              "      --hover-bg-color: #434B5C;\n",
              "      --hover-fill-color: #FFFFFF;\n",
              "      --disabled-bg-color: #3B4455;\n",
              "      --disabled-fill-color: #666;\n",
              "  }\n",
              "\n",
              "  .colab-df-quickchart {\n",
              "    background-color: var(--bg-color);\n",
              "    border: none;\n",
              "    border-radius: 50%;\n",
              "    cursor: pointer;\n",
              "    display: none;\n",
              "    fill: var(--fill-color);\n",
              "    height: 32px;\n",
              "    padding: 0;\n",
              "    width: 32px;\n",
              "  }\n",
              "\n",
              "  .colab-df-quickchart:hover {\n",
              "    background-color: var(--hover-bg-color);\n",
              "    box-shadow: 0 1px 2px rgba(60, 64, 67, 0.3), 0 1px 3px 1px rgba(60, 64, 67, 0.15);\n",
              "    fill: var(--button-hover-fill-color);\n",
              "  }\n",
              "\n",
              "  .colab-df-quickchart-complete:disabled,\n",
              "  .colab-df-quickchart-complete:disabled:hover {\n",
              "    background-color: var(--disabled-bg-color);\n",
              "    fill: var(--disabled-fill-color);\n",
              "    box-shadow: none;\n",
              "  }\n",
              "\n",
              "  .colab-df-spinner {\n",
              "    border: 2px solid var(--fill-color);\n",
              "    border-color: transparent;\n",
              "    border-bottom-color: var(--fill-color);\n",
              "    animation:\n",
              "      spin 1s steps(1) infinite;\n",
              "  }\n",
              "\n",
              "  @keyframes spin {\n",
              "    0% {\n",
              "      border-color: transparent;\n",
              "      border-bottom-color: var(--fill-color);\n",
              "      border-left-color: var(--fill-color);\n",
              "    }\n",
              "    20% {\n",
              "      border-color: transparent;\n",
              "      border-left-color: var(--fill-color);\n",
              "      border-top-color: var(--fill-color);\n",
              "    }\n",
              "    30% {\n",
              "      border-color: transparent;\n",
              "      border-left-color: var(--fill-color);\n",
              "      border-top-color: var(--fill-color);\n",
              "      border-right-color: var(--fill-color);\n",
              "    }\n",
              "    40% {\n",
              "      border-color: transparent;\n",
              "      border-right-color: var(--fill-color);\n",
              "      border-top-color: var(--fill-color);\n",
              "    }\n",
              "    60% {\n",
              "      border-color: transparent;\n",
              "      border-right-color: var(--fill-color);\n",
              "    }\n",
              "    80% {\n",
              "      border-color: transparent;\n",
              "      border-right-color: var(--fill-color);\n",
              "      border-bottom-color: var(--fill-color);\n",
              "    }\n",
              "    90% {\n",
              "      border-color: transparent;\n",
              "      border-bottom-color: var(--fill-color);\n",
              "    }\n",
              "  }\n",
              "</style>\n",
              "\n",
              "  <script>\n",
              "    async function quickchart(key) {\n",
              "      const quickchartButtonEl =\n",
              "        document.querySelector('#' + key + ' button');\n",
              "      quickchartButtonEl.disabled = true;  // To prevent multiple clicks.\n",
              "      quickchartButtonEl.classList.add('colab-df-spinner');\n",
              "      try {\n",
              "        const charts = await google.colab.kernel.invokeFunction(\n",
              "            'suggestCharts', [key], {});\n",
              "      } catch (error) {\n",
              "        console.error('Error during call to suggestCharts:', error);\n",
              "      }\n",
              "      quickchartButtonEl.classList.remove('colab-df-spinner');\n",
              "      quickchartButtonEl.classList.add('colab-df-quickchart-complete');\n",
              "    }\n",
              "    (() => {\n",
              "      let quickchartButtonEl =\n",
              "        document.querySelector('#df-66e7ce87-28e8-4c63-bfcf-3f2783e873ce button');\n",
              "      quickchartButtonEl.style.display =\n",
              "        google.colab.kernel.accessAllowed ? 'block' : 'none';\n",
              "    })();\n",
              "  </script>\n",
              "</div>\n",
              "\n",
              "    </div>\n",
              "  </div>\n"
            ],
            "application/vnd.google.colaboratory.intrinsic+json": {
              "type": "dataframe",
              "variable_name": "data",
              "summary": "{\n  \"name\": \"data\",\n  \"rows\": 175,\n  \"fields\": [\n    {\n      \"column\": \"Constituency\",\n      \"properties\": {\n        \"dtype\": \"string\",\n        \"num_unique_values\": 175,\n        \"samples\": [\n          \"Tuni\",\n          \"Srungavarapukota\",\n          \"Panyam\"\n        ],\n        \"semantic_type\": \"\",\n        \"description\": \"\"\n      }\n    },\n    {\n      \"column\": \"Const. No.\",\n      \"properties\": {\n        \"dtype\": \"number\",\n        \"std\": 50,\n        \"min\": 1,\n        \"max\": 175,\n        \"num_unique_values\": 175,\n        \"samples\": [\n          35,\n          19,\n          138\n        ],\n        \"semantic_type\": \"\",\n        \"description\": \"\"\n      }\n    },\n    {\n      \"column\": \"Leading Candidate\",\n      \"properties\": {\n        \"dtype\": \"string\",\n        \"num_unique_values\": 175,\n        \"samples\": [\n          \"DIVYA YANAMALA\",\n          \"KOLLA LALITHA KUMARI\",\n          \"GOWRU CHARITHA REDDY\"\n        ],\n        \"semantic_type\": \"\",\n        \"description\": \"\"\n      }\n    },\n    {\n      \"column\": \"Leading Party\",\n      \"properties\": {\n        \"dtype\": \"category\",\n        \"num_unique_values\": 4,\n        \"samples\": [\n          \"Bharatiya Janata Party\",\n          \"Janasena Party\",\n          \"Telugu Desam\"\n        ],\n        \"semantic_type\": \"\",\n        \"description\": \"\"\n      }\n    },\n    {\n      \"column\": \"Trailing Candidate\",\n      \"properties\": {\n        \"dtype\": \"string\",\n        \"num_unique_values\": 175,\n        \"samples\": [\n          \"DADISETTI RAJA\",\n          \"KADUBANDI SRINIVASA RAO\",\n          \"KATASANI RAMABHUPAL REDDY\"\n        ],\n        \"semantic_type\": \"\",\n        \"description\": \"\"\n      }\n    },\n    {\n      \"column\": \"Trailing Party\",\n      \"properties\": {\n        \"dtype\": \"category\",\n        \"num_unique_values\": 3,\n        \"samples\": [\n          \"Yuvajana Sramika Rythu Congress Party\",\n          \"Telugu Desam\",\n          \"Bharatiya Janata Party\"\n        ],\n        \"semantic_type\": \"\",\n        \"description\": \"\"\n      }\n    },\n    {\n      \"column\": \"Margin\",\n      \"properties\": {\n        \"dtype\": \"number\",\n        \"std\": 20006,\n        \"min\": 351,\n        \"max\": 95235,\n        \"num_unique_values\": 174,\n        \"samples\": [\n          15177,\n          38790,\n          24013\n        ],\n        \"semantic_type\": \"\",\n        \"description\": \"\"\n      }\n    },\n    {\n      \"column\": \"Round\",\n      \"properties\": {\n        \"dtype\": \"category\",\n        \"num_unique_values\": 15,\n        \"samples\": [\n          \"26/26\",\n          \"16/16\",\n          \"14/14\"\n        ],\n        \"semantic_type\": \"\",\n        \"description\": \"\"\n      }\n    },\n    {\n      \"column\": \"Status\",\n      \"properties\": {\n        \"dtype\": \"category\",\n        \"num_unique_values\": 1,\n        \"samples\": [\n          \"Result Declared\"\n        ],\n        \"semantic_type\": \"\",\n        \"description\": \"\"\n      }\n    }\n  ]\n}"
            }
          },
          "metadata": {},
          "execution_count": 23
        }
      ]
    },
    {
      "cell_type": "code",
      "source": [
        "# Insight 1: Total Seats Won by Each Party\n",
        "total_seats_by_party = data['Leading Party'].value_counts()\n",
        "print(\"Total Seats Won by Each Party:\\n\", total_seats_by_party)"
      ],
      "metadata": {
        "colab": {
          "base_uri": "https://localhost:8080/"
        },
        "id": "WVW_kFJW5oU8",
        "outputId": "4a4e88ab-122f-4019-950d-eac9870a4cc8"
      },
      "execution_count": 9,
      "outputs": [
        {
          "output_type": "stream",
          "name": "stdout",
          "text": [
            "Total Seats Won by Each Party:\n",
            " Leading Party\n",
            "Telugu Desam                             135\n",
            "Janasena Party                            21\n",
            "Yuvajana Sramika Rythu Congress Party     11\n",
            "Bharatiya Janata Party                     8\n",
            "Name: count, dtype: int64\n"
          ]
        }
      ]
    },
    {
      "cell_type": "code",
      "source": [
        "# Insight 2: Top 5 Constituencies with Highest Margin of Victory\n",
        "top_5_margins = data.nlargest(5, 'Margin')[['Constituency', 'Margin', 'Leading Candidate', 'Leading Party']]\n",
        "print(\"\\nTop 5 Constituencies with Highest Margin of Victory:\\n\", top_5_margins)"
      ],
      "metadata": {
        "colab": {
          "base_uri": "https://localhost:8080/"
        },
        "id": "FpDlzX_H5sgg",
        "outputId": "699bb02f-772a-4969-ad8c-31a2320bbd2b"
      },
      "execution_count": 10,
      "outputs": [
        {
          "output_type": "stream",
          "name": "stdout",
          "text": [
            "\n",
            "Top 5 Constituencies with Highest Margin of Victory:\n",
            "      Constituency  Margin        Leading Candidate   Leading Party\n",
            "33       Gajuwaka   95235       PALLA SRINIVAS RAO    Telugu Desam\n",
            "17        Bhimili   92401      GANTA SRINIVASA RAO    Telugu Desam\n",
            "75    Mangalagiri   91413              NARA LOKESH    Telugu Desam\n",
            "111     Pendurthi   81870  PANCHAKARLA RAMESH BABU  Janasena Party\n",
            "90   Nellore City   72489         NARAYANA PONGURU    Telugu Desam\n"
          ]
        }
      ]
    },
    {
      "cell_type": "code",
      "source": [
        "# Insight 3: Party with Most Narrow Victories\n",
        "narrow_victories = data.nsmallest(5, 'Margin')[['Constituency', 'Margin', 'Leading Candidate', 'Leading Party']]\n",
        "print(\"\\nParty with Most Narrow Victories:\\n\", narrow_victories)\n"
      ],
      "metadata": {
        "colab": {
          "base_uri": "https://localhost:8080/"
        },
        "id": "v41Rc9FS5yEa",
        "outputId": "ad8fc7a0-b840-4e97-ded7-26be72e181e2"
      },
      "execution_count": 11,
      "outputs": [
        {
          "output_type": "stream",
          "name": "stdout",
          "text": [
            "\n",
            "Party with Most Narrow Victories:\n",
            "         Constituency  Margin             Leading Candidate  \\\n",
            "71   Madakasira (SC)     351                      M.S.RAJU   \n",
            "37          Giddalur     973         ASHOK REDDY MUTHUMULA   \n",
            "26             Darsi    2456  BUCHEPALLI SIVA PRASAD REDDY   \n",
            "132        Rayachoti    2495    MANDIPALLI RAMPRASAD REDDY   \n",
            "4               Alur    2831                 B. VIRUPAKSHI   \n",
            "\n",
            "                             Leading Party  \n",
            "71                            Telugu Desam  \n",
            "37                            Telugu Desam  \n",
            "26   Yuvajana Sramika Rythu Congress Party  \n",
            "132                           Telugu Desam  \n",
            "4    Yuvajana Sramika Rythu Congress Party  \n"
          ]
        }
      ]
    },
    {
      "cell_type": "code",
      "source": [
        "# Insight 4: Average Margin of Victory by Party\n",
        "avg_margin_by_party = data.groupby('Leading Party')['Margin'].mean().sort_values(ascending=False)\n",
        "print(\"\\nAverage Margin of Victory by Party:\\n\", avg_margin_by_party)\n"
      ],
      "metadata": {
        "colab": {
          "base_uri": "https://localhost:8080/"
        },
        "id": "AZkFS01t53qm",
        "outputId": "26bee8d7-f4d5-4433-c8c9-69ebaf3026a5"
      },
      "execution_count": 12,
      "outputs": [
        {
          "output_type": "stream",
          "name": "stdout",
          "text": [
            "\n",
            "Average Margin of Victory by Party:\n",
            " Leading Party\n",
            "Janasena Party                           47430.523810\n",
            "Telugu Desam                             32038.762963\n",
            "Bharatiya Janata Party                   28608.375000\n",
            "Yuvajana Sramika Rythu Congress Party    16179.545455\n",
            "Name: Margin, dtype: float64\n"
          ]
        }
      ]
    },
    {
      "cell_type": "code",
      "source": [
        "# Insight 5: Constituency with Maximum Candidates (using 'Round' as a proxy for candidates)\n",
        "max_candidates = data.loc[data['Round'].str.split('/').str[0].astype(int).idxmax()]\n",
        "print(\"\\nConstituency with Maximum Candidates:\\n\", max_candidates)\n"
      ],
      "metadata": {
        "colab": {
          "base_uri": "https://localhost:8080/"
        },
        "id": "SJ6XYSBu6CJP",
        "outputId": "9b3c95fa-f18a-4902-80aa-3bbe4ee2d719"
      },
      "execution_count": 13,
      "outputs": [
        {
          "output_type": "stream",
          "name": "stdout",
          "text": [
            "\n",
            "Constituency with Maximum Candidates:\n",
            " Constituency                               Nandikotkur (SC)\n",
            "Const. No.                                              136\n",
            "Leading Candidate                               G JAYASURYA\n",
            "Leading Party                                  Telugu Desam\n",
            "Trailing Candidate                             DARA SUDHEER\n",
            "Trailing Party        Yuvajana Sramika Rythu Congress Party\n",
            "Margin                                                 9792\n",
            "Round                                                 27/27\n",
            "Status                                      Result Declared\n",
            "Name: 83, dtype: object\n"
          ]
        }
      ]
    },
    {
      "cell_type": "code",
      "source": [
        "# Insight 6: Percentage of Seats Won by Each Party\n",
        "total_seats = data.shape[0]\n",
        "percentage_seats = (total_seats_by_party / total_seats) * 100\n",
        "print(\"\\nPercentage of Seats Won by Each Party:\\n\", percentage_seats)\n"
      ],
      "metadata": {
        "colab": {
          "base_uri": "https://localhost:8080/"
        },
        "id": "a_jz-5B16DvN",
        "outputId": "53d802a9-205d-4e92-8b9d-d3a0722f8532"
      },
      "execution_count": 14,
      "outputs": [
        {
          "output_type": "stream",
          "name": "stdout",
          "text": [
            "\n",
            "Percentage of Seats Won by Each Party:\n",
            " Leading Party\n",
            "Telugu Desam                             77.142857\n",
            "Janasena Party                           12.000000\n",
            "Yuvajana Sramika Rythu Congress Party     6.285714\n",
            "Bharatiya Janata Party                    4.571429\n",
            "Name: count, dtype: float64\n"
          ]
        }
      ]
    },
    {
      "cell_type": "code",
      "source": [
        "# Insight 7: Overall Voter Turnout Comparison\n",
        "# Assuming 'Round' contains voter turnout information, if applicable\n",
        "data['Voter Turnout'] = data['Round'].str.split('/').str[1].astype(int)\n",
        "avg_voter_turnout = data['Voter Turnout'].mean()\n",
        "print(\"\\nOverall Average Voter Turnout (if applicable):\\n\", avg_voter_turnout)\n"
      ],
      "metadata": {
        "colab": {
          "base_uri": "https://localhost:8080/"
        },
        "id": "JFVj2NUO6J2Y",
        "outputId": "2a34f8c8-f554-4723-efcd-c878e9377aa8"
      },
      "execution_count": 15,
      "outputs": [
        {
          "output_type": "stream",
          "name": "stdout",
          "text": [
            "\n",
            "Overall Average Voter Turnout (if applicable):\n",
            " 19.754285714285714\n"
          ]
        }
      ]
    },
    {
      "cell_type": "code",
      "source": [
        "# Insight 8: Top 5 Parties by Average Margin\n",
        "top_5_parties_avg_margin = avg_margin_by_party.head(5)\n",
        "print(\"\\nTop 5 Parties by Average Margin:\\n\", top_5_parties_avg_margin)"
      ],
      "metadata": {
        "colab": {
          "base_uri": "https://localhost:8080/"
        },
        "id": "gXou27Cl6M-7",
        "outputId": "3eaf93c5-5034-4309-f368-c4b0caed5707"
      },
      "execution_count": 16,
      "outputs": [
        {
          "output_type": "stream",
          "name": "stdout",
          "text": [
            "\n",
            "Top 5 Parties by Average Margin:\n",
            " Leading Party\n",
            "Janasena Party                           47430.523810\n",
            "Telugu Desam                             32038.762963\n",
            "Bharatiya Janata Party                   28608.375000\n",
            "Yuvajana Sramika Rythu Congress Party    16179.545455\n",
            "Name: Margin, dtype: float64\n"
          ]
        }
      ]
    },
    {
      "cell_type": "code",
      "source": [
        "# Insight 9: Total Number of Candidates per Constituency\n",
        "data['Total Candidates'] = data['Round'].str.split('/').str[0].astype(int)\n",
        "total_candidates_per_constituency = data.groupby('Constituency')['Total Candidates'].sum()\n",
        "print(\"\\nTotal Number of Candidates per Constituency:\\n\", total_candidates_per_constituency)"
      ],
      "metadata": {
        "colab": {
          "base_uri": "https://localhost:8080/"
        },
        "id": "LDcXGIIq6Qv3",
        "outputId": "23536a7b-5620-4fac-c781-cb5e10c67503"
      },
      "execution_count": 17,
      "outputs": [
        {
          "output_type": "stream",
          "name": "stdout",
          "text": [
            "\n",
            "Total Number of Candidates per Constituency:\n",
            " Constituency\n",
            "Achanta                 14\n",
            "Addanki                 22\n",
            "Adoni                   19\n",
            "Allagadda               22\n",
            "Alur                    21\n",
            "                        ..\n",
            "Visakhapatnam West      16\n",
            "Vizianagaram            20\n",
            "Yelamanchili            19\n",
            "Yemmiganur              20\n",
            "Yerragondapalem (SC)    19\n",
            "Name: Total Candidates, Length: 175, dtype: int64\n"
          ]
        }
      ]
    },
    {
      "cell_type": "code",
      "source": [
        "# Insight 10: Correlation between Margin and Number of Rounds\n",
        "data['Rounds Contested'] = data['Round'].str.split('/').str[0].astype(int)\n",
        "correlation_margin_rounds = data[['Margin', 'Rounds Contested']].corr().iloc[0, 1]\n",
        "print(\"\\nCorrelation between Margin and Number of Rounds:\\n\", correlation_margin_rounds)"
      ],
      "metadata": {
        "colab": {
          "base_uri": "https://localhost:8080/"
        },
        "id": "r6yhY1rj6VYz",
        "outputId": "c2c7c079-eb21-4a5b-d9f4-7a83ad98b497"
      },
      "execution_count": 18,
      "outputs": [
        {
          "output_type": "stream",
          "name": "stdout",
          "text": [
            "\n",
            "Correlation between Margin and Number of Rounds:\n",
            " -0.07218344388022564\n"
          ]
        }
      ]
    },
    {
      "cell_type": "code",
      "source": [
        "# Calculate total seats won by each party\n",
        "total_seats_by_party = data['Leading Party'].value_counts()\n",
        "\n",
        "# Plotting the bar graph\n",
        "plt.figure(figsize=(10, 6))\n",
        "total_seats_by_party.plot(kind='bar', color='skyblue')\n",
        "plt.title('Total Seats Secured by Each Party')\n",
        "plt.xlabel('Party')\n",
        "plt.ylabel('Number of Seats')\n",
        "plt.xticks(rotation=45)\n",
        "plt.tight_layout()\n",
        "plt.show()"
      ],
      "metadata": {
        "colab": {
          "base_uri": "https://localhost:8080/",
          "height": 607
        },
        "id": "JptpKDCs8lgj",
        "outputId": "4e69822d-d552-4fde-fe0b-f3d9975ad869"
      },
      "execution_count": 21,
      "outputs": [
        {
          "output_type": "display_data",
          "data": {
            "text/plain": [
              "<Figure size 1000x600 with 1 Axes>"
            ],
            "image/png": "[encoded data removed]"
          },
          "metadata": {}
        }
      ]
    },
    {
      "cell_type": "code",
      "source": [
        "vote_share = data.groupby('Leading Party')['Margin'].sum()\n",
        "\n",
        "# Plotting the pie chart\n",
        "plt.figure(figsize=(10, 8))\n",
        "vote_share.plot(kind='pie', autopct='%1.1f%%', startangle=140, colormap='Set3')\n",
        "plt.title('Party-wise Vote Share')\n",
        "plt.ylabel('')\n",
        "plt.tight_layout()\n",
        "plt.show()"
      ],
      "metadata": {
        "colab": {
          "base_uri": "https://localhost:8080/",
          "height": 807
        },
        "id": "olOXpWljBria",
        "outputId": "65046a54-1b75-4776-d016-921cdde3eca5"
      },
      "execution_count": 22,
      "outputs": [
        {
          "output_type": "display_data",
          "data": {
            "text/plain": [
              "<Figure size 1000x800 with 1 Axes>"
            ],
            "image/png": "[encoded data removed]"
          },
          "metadata": {}
        }
      ]
    }
  ]
}